{
 "cells": [
  {
   "cell_type": "markdown",
   "metadata": {},
   "source": [
    "                                            1. List Comprehension"
   ]
  },
  {
   "cell_type": "code",
   "execution_count": 1,
   "metadata": {},
   "outputs": [
    {
     "name": "stdout",
     "output_type": "stream",
     "text": [
      "[[0, 0, 0], [0, 0, 1], [0, 1, 0], [1, 0, 0], [1, 1, 1]]\n"
     ]
    }
   ],
   "source": [
    "if __name__ == '__main__':\n",
    "    x = int(input())\n",
    "    y = int(input())\n",
    "    z = int(input())\n",
    "    n = int(input())\n",
    "\n",
    "    # List comprehension to generate the 3D coordinates where the sum is not equal to n\n",
    "    result = [[i, j, k] for i in range(x + 1) for j in range(y + 1) for k in range(z + 1) if i + j + k != n]\n",
    "\n",
    "    print(result)\n"
   ]
  },
  {
   "cell_type": "markdown",
   "metadata": {},
   "source": [
    "                                        2. Find the Runner-Up Score! "
   ]
  },
  {
   "cell_type": "code",
   "execution_count": 3,
   "metadata": {},
   "outputs": [
    {
     "name": "stdout",
     "output_type": "stream",
     "text": [
      "5\n"
     ]
    }
   ],
   "source": [
    "if __name__ == '__main__':\n",
    "    n = int(input())\n",
    "    arr = list(map(int, input().split()))\n",
    "\n",
    "    # Find the maximum score\n",
    "    max_score = max(arr)\n",
    "\n",
    "    # Remove all occurrences of the maximum score\n",
    "    arr = [score for score in arr if score != max_score]\n",
    "\n",
    "    # Find the runner-up score\n",
    "    runner_up_score = max(arr)\n",
    "\n",
    "    print(runner_up_score)\n"
   ]
  },
  {
   "cell_type": "markdown",
   "metadata": {},
   "source": [
    "                                    3. Nested lists"
   ]
  },
  {
   "cell_type": "code",
   "execution_count": 4,
   "metadata": {},
   "outputs": [
    {
     "name": "stdout",
     "output_type": "stream",
     "text": [
      "Berry\n",
      "Harry\n"
     ]
    }
   ],
   "source": [
    "if __name__ == '__main__':\n",
    "    # Create a list to store student records\n",
    "    records = []\n",
    "\n",
    "    # Input the number of students and their records\n",
    "    for _ in range(int(input())):\n",
    "        name = input()\n",
    "        score = float(input())\n",
    "        records.append([name, score])\n",
    "\n",
    "    # Find unique scores and sort them\n",
    "    scores = sorted(set([record[1] for record in records]))\n",
    "\n",
    "    # Find the second lowest score\n",
    "    second_lowest_score = scores[1]\n",
    "\n",
    "    # Collect names of students with the second lowest score\n",
    "    second_lowest_students = [record[0] for record in records if record[1] == second_lowest_score]\n",
    "\n",
    "    # Sort the names alphabetically\n",
    "    second_lowest_students.sort()\n",
    "\n",
    "    # Print the names, each on a new line\n",
    "    for student in second_lowest_students:\n",
    "        print(student)\n"
   ]
  },
  {
   "cell_type": "markdown",
   "metadata": {},
   "source": [
    "                                4. Finding the percentage"
   ]
  },
  {
   "cell_type": "code",
   "execution_count": 5,
   "metadata": {},
   "outputs": [
    {
     "name": "stdout",
     "output_type": "stream",
     "text": [
      "56.00\n"
     ]
    }
   ],
   "source": [
    "if __name__ == '__main__':\n",
    "    n = int(input())\n",
    "    student_marks = {}\n",
    "    for _ in range(n):\n",
    "        name, *line = input().split()\n",
    "        scores = list(map(float, line))\n",
    "        student_marks[name] = scores\n",
    "    query_name = input()\n",
    "\n",
    "    # Calculate the average marks for the queried student\n",
    "    average_marks = sum(student_marks[query_name]) / len(student_marks[query_name])\n",
    "\n",
    "    # Print the result rounded to 2 decimal places\n",
    "    print(f\"{average_marks:.2f}\")\n"
   ]
  },
  {
   "cell_type": "markdown",
   "metadata": {},
   "source": [
    "                                                5. Lists"
   ]
  },
  {
   "cell_type": "code",
   "execution_count": 8,
   "metadata": {},
   "outputs": [
    {
     "name": "stdout",
     "output_type": "stream",
     "text": [
      "[5]\n"
     ]
    }
   ],
   "source": [
    "# Initialize an empty list\n",
    "my_list = []\n",
    "\n",
    "# Read the number of commands\n",
    "n = int(input())\n",
    "\n",
    "# Process each command\n",
    "for _ in range(n):\n",
    "    # Read the command input\n",
    "    command = input().split()\n",
    "\n",
    "    # Check which command and perform the corresponding operation\n",
    "    if command[0] == \"insert\":\n",
    "        # Insert the integer at the specified position\n",
    "        i, e = int(command[1]), int(command[2])\n",
    "        my_list.insert(i, e)\n",
    "    elif command[0] == \"print\":\n",
    "        # Print the current state of the list\n",
    "        print(my_list)\n",
    "    elif command[0] == \"remove\":\n",
    "        # Remove the first occurrence of the integer\n",
    "        e = int(command[1])\n",
    "        my_list.remove(e)\n",
    "    elif command[0] == \"append\":\n",
    "        # Append the integer to the end of the list\n",
    "        e = int(command[1])\n",
    "        my_list.append(e)\n",
    "    elif command[0] == \"sort\":\n",
    "        # Sort the list\n",
    "        my_list.sort()\n",
    "    elif command[0] == \"pop\":\n",
    "        # Pop the last element from the list\n",
    "        my_list.pop()\n",
    "    elif command[0] == \"reverse\":\n",
    "        # Reverse the list\n",
    "        my_list.reverse()\n"
   ]
  },
  {
   "cell_type": "markdown",
   "metadata": {},
   "source": [
    "                                            6, Tuples"
   ]
  },
  {
   "cell_type": "code",
   "execution_count": 10,
   "metadata": {},
   "outputs": [
    {
     "name": "stdout",
     "output_type": "stream",
     "text": [
      "-3550055125485641917\n"
     ]
    }
   ],
   "source": [
    "if __name__ == '__main__':\n",
    "    n = int(input())\n",
    "    integer_list = map(int, input().split())\n",
    "    t =tuple(integer_list)\n",
    "    print(hash(t))"
   ]
  },
  {
   "cell_type": "markdown",
   "metadata": {},
   "source": [
    "                                            7. Introduction to the sets"
   ]
  },
  {
   "cell_type": "code",
   "execution_count": 11,
   "metadata": {},
   "outputs": [
    {
     "name": "stdout",
     "output_type": "stream",
     "text": [
      "171.57142857142858\n"
     ]
    }
   ],
   "source": [
    "def average(array):\n",
    "    # your code goes here\n",
    "    unique_elements = set(array)\n",
    "    return sum(unique_elements) / len(unique_elements)\n",
    "\n",
    "if __name__ == '__main__':\n",
    "    n = int(input())\n",
    "    arr = list(map(int, input().split()))\n",
    "    result = average(arr)\n",
    "    print(result)"
   ]
  },
  {
   "cell_type": "markdown",
   "metadata": {},
   "source": [
    "                                                    8. Exceptions"
   ]
  },
  {
   "cell_type": "code",
   "execution_count": 12,
   "metadata": {},
   "outputs": [
    {
     "name": "stdout",
     "output_type": "stream",
     "text": [
      "Error Code: integer division or modulo by zero\n",
      "Error Code: invalid literal for int() with base 10: '$'\n",
      "3\n"
     ]
    }
   ],
   "source": [
    "if __name__ == '__main__':\n",
    "    T = int(input())  # Number of test cases\n",
    "\n",
    "    for _ in range(T):\n",
    "        a, b = input().split()\n",
    "        try:\n",
    "            # Convert inputs to integers and perform division\n",
    "            result = int(a) // int(b)\n",
    "            print(result)\n",
    "        except ZeroDivisionError as e:\n",
    "            print(f\"Error Code: {e}\")\n",
    "        except ValueError as e:\n",
    "            print(f\"Error Code: {e}\")\n"
   ]
  },
  {
   "cell_type": "markdown",
   "metadata": {},
   "source": [
    "                                        9. Symmetric Difference"
   ]
  },
  {
   "cell_type": "code",
   "execution_count": 13,
   "metadata": {},
   "outputs": [
    {
     "name": "stdout",
     "output_type": "stream",
     "text": [
      "5\n",
      "9\n",
      "11\n",
      "12\n"
     ]
    }
   ],
   "source": [
    "if __name__ == '__main__':\n",
    "    # Input the size and elements of the first set\n",
    "    M = int(input())\n",
    "    set_M = set(map(int, input().split()))\n",
    "\n",
    "    # Input the size and elements of the second set\n",
    "    N = int(input())\n",
    "    set_N = set(map(int, input().split()))\n",
    "\n",
    "    # Compute the symmetric difference\n",
    "    symmetric_difference = sorted(set_M.symmetric_difference(set_N))\n",
    "\n",
    "    # Print the symmetric difference elements, one per line\n",
    "    for element in symmetric_difference:\n",
    "        print(element)\n"
   ]
  },
  {
   "cell_type": "markdown",
   "metadata": {},
   "source": [
    "                                10. Incorrect Regex"
   ]
  },
  {
   "cell_type": "code",
   "execution_count": 14,
   "metadata": {},
   "outputs": [
    {
     "name": "stdout",
     "output_type": "stream",
     "text": [
      "True\n",
      "True\n"
     ]
    }
   ],
   "source": [
    "import re\n",
    "\n",
    "if __name__ == '__main__':\n",
    "    T = int(input())  # Number of test cases\n",
    "\n",
    "    for _ in range(T):\n",
    "        S = input()  # Input regex string\n",
    "        try:\n",
    "            re.compile(S)  # Try to compile the regex\n",
    "            print(True)  # If successful, it's a valid regex\n",
    "        except re.error:\n",
    "            print(False)  # If compilation fails, it's not a valid regex\n"
   ]
  },
  {
   "cell_type": "code",
   "execution_count": null,
   "metadata": {},
   "outputs": [],
   "source": []
  }
 ],
 "metadata": {
  "kernelspec": {
   "display_name": "Python 3",
   "language": "python",
   "name": "python3"
  },
  "language_info": {
   "codemirror_mode": {
    "name": "ipython",
    "version": 3
   },
   "file_extension": ".py",
   "mimetype": "text/x-python",
   "name": "python",
   "nbconvert_exporter": "python",
   "pygments_lexer": "ipython3",
   "version": "3.11.3"
  }
 },
 "nbformat": 4,
 "nbformat_minor": 2
}
